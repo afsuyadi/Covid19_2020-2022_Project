{
 "cells": [
  {
   "cell_type": "code",
   "execution_count": null,
   "id": "71ae1f64",
   "metadata": {},
   "outputs": [],
   "source": [
    "# Ref : https://realpython.com/beautiful-soup-web-scraper-python/\n",
    "# Ref : https://github.com/AlexTheAnalyst/PortfolioProjects/blob/main/Amazon%20Web%20Scraper%20Project.ipynb\n",
    "\n",
    "# Step 1 : Import libraries\n",
    "\n",
    "from bs4 import BeautifulSoup\n",
    "import requests\n",
    "import time\n",
    "import datetime\n",
    "\n",
    "import smtplib"
   ]
  },
  {
   "cell_type": "code",
   "execution_count": null,
   "id": "3339989e",
   "metadata": {},
   "outputs": [],
   "source": [
    "# Step 2 : Connect to desired website \n",
    "\n",
    "URL = \"https://www.tokopedia.com/tokomalikul/adapter-untuk-fast-connector-biru-sc-upc-mu064\"\n",
    "\n",
    "headers = {\"User-Agent\": \"Mozilla/5.0 (Windows NT 10.0; Win64; x64) AppleWebKit/537.36 (KHTML, like Gecko) Chrome/101.0.4951.41 Safari/537.36 Edg/101.0.1210.32\"}\n",
    "#get it from : https://httpbin.org/get\n",
    "\n",
    "page = requests.get(URL, headers=headers)\n",
    "\n",
    "soup1 = BeautifulSoup(page.content, \"html.parser\")\n",
    "\n",
    "soup2 = BeautifulSoup(soup1.prettify(), \"html.parser\")\n",
    "\n",
    "title = soup2.find('h1', class_= \"css-t9du53\").get_text()\n",
    "price = soup2.find('div',class_=\"price\").get_text()\n",
    "\n",
    "\n",
    "print(title)\n",
    "print(price)\n",
    "\n"
   ]
  },
  {
   "cell_type": "code",
   "execution_count": null,
   "id": "b0d5ff80",
   "metadata": {},
   "outputs": [],
   "source": [
    "# Step 3 : Reorganize the text to become tidy\n",
    "title = title.strip()\n",
    "print(title)\n",
    "type(title)\n",
    "\n",
    "price = price.strip()[2:]\n",
    "price=price.replace('.',\"\")\n",
    "print(price)\n"
   ]
  },
  {
   "cell_type": "code",
   "execution_count": null,
   "id": "9e6c8e20",
   "metadata": {},
   "outputs": [],
   "source": [
    "# Step 4 : Make timestamp for every data\n",
    "import datetime\n",
    "today = datetime.date.today()\n",
    "print(today)"
   ]
  },
  {
   "cell_type": "code",
   "execution_count": 10,
   "id": "17ea7847",
   "metadata": {},
   "outputs": [],
   "source": [
    "# Step 5 : Create CSV and insert the data\n",
    "\n",
    "import csv\n",
    "\n",
    "header = ['Title','Price']\n",
    "data = [title,price]\n",
    "\n",
    "with open ('TokopediaWebScraping.csv','w',newline='',encoding='UTF8') as f:\n",
    "    writer=csv.writer(f)\n",
    "    writer.writerow(header)\n",
    "    writer.writerow(data)\n",
    "    \n",
    "    "
   ]
  },
  {
   "cell_type": "code",
   "execution_count": 12,
   "id": "e8c1835e",
   "metadata": {},
   "outputs": [
    {
     "name": "stdout",
     "output_type": "stream",
     "text": [
      "                                              Title  Price\n",
      "0  adapter untuk fast connector biru SC UPC (MU064)   1000\n"
     ]
    }
   ],
   "source": [
    "# Read the CSV\n",
    "\n",
    "import pandas as pd\n",
    "\n",
    "dataset = pd.read_csv('TokopediaWebScraping.csv')\n",
    "print(dataset)"
   ]
  },
  {
   "cell_type": "code",
   "execution_count": null,
   "id": "cfdb0c23",
   "metadata": {},
   "outputs": [],
   "source": [
    "# Step 6 : Combine all of the functions into one function\n",
    "\n",
    "def check_price():\n",
    "    URL = \"https://www.tokopedia.com/tokomalikul/adapter-untuk-fast-connector-biru-sc-upc-mu064\"\n",
    "\n",
    "    headers = {\"User-Agent\": \"Mozilla/5.0 (Windows NT 10.0; Win64; x64) AppleWebKit/537.36 (KHTML, like Gecko) Chrome/101.0.4951.41 Safari/537.36 Edg/101.0.1210.32\"}\n",
    "    page = requests.get(URL, headers=headers)\n",
    "\n",
    "    soup1 = BeautifulSoup(page.content, \"html.parser\")\n",
    "\n",
    "    soup2 = BeautifulSoup(soup1.prettify(), \"html.parser\")\n",
    "\n",
    "    title = soup2.find('h1', class_= \"css-t9du53\").get_text()\n",
    "    price = soup2.find('div',class_=\"price\").get_text()\n",
    "\n",
    "\n",
    "    title = title.strip()\n",
    "    price = price.strip()[2:]\n",
    "    price=price.replace('.',\"\")\n",
    "\n",
    "    import datetime\n",
    "    today = datetime.date.today()\n",
    "\n",
    "    header = ['Title','Price']\n",
    "    data = [title,price]\n",
    "\n",
    "    with open ('TokopediaWebScraping.csv','w',newline='',encoding='UTF8') as f:\n",
    "        writer=csv.writer(f)\n",
    "        writer.writerow(header)\n",
    "        writer.writerow(data)"
   ]
  },
  {
   "cell_type": "code",
   "execution_count": null,
   "id": "8b5ca494",
   "metadata": {},
   "outputs": [],
   "source": [
    "# Step 7 : put the function into time frame\n",
    "import time\n",
    "\n",
    "while(True):\n",
    "    check_price()\n",
    "    time.sleep(86400)\n",
    "\n"
   ]
  },
  {
   "cell_type": "code",
   "execution_count": null,
   "id": "067b98cb",
   "metadata": {},
   "outputs": [],
   "source": [
    "import pandas as pd\n",
    "\n",
    "df = pd.read_csv(\"C:\\Users\\Hp\\TokopediaWebScraping.csv\")\n",
    "print(df)"
   ]
  },
  {
   "cell_type": "code",
   "execution_count": null,
   "id": "d9603d8f",
   "metadata": {},
   "outputs": [],
   "source": []
  }
 ],
 "metadata": {
  "kernelspec": {
   "display_name": "Python 3 (ipykernel)",
   "language": "python",
   "name": "python3"
  },
  "language_info": {
   "codemirror_mode": {
    "name": "ipython",
    "version": 3
   },
   "file_extension": ".py",
   "mimetype": "text/x-python",
   "name": "python",
   "nbconvert_exporter": "python",
   "pygments_lexer": "ipython3",
   "version": "3.9.7"
  }
 },
 "nbformat": 4,
 "nbformat_minor": 5
}
